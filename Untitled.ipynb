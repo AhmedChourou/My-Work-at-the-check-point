{
 "cells": [
  {
   "cell_type": "code",
   "execution_count": 1,
   "id": "5329d849-6117-4a1c-997b-32085df914ff",
   "metadata": {},
   "outputs": [
    {
     "name": "stdout",
     "output_type": "stream",
     "text": [
      "Welcome to python world!Let's start coding\n"
     ]
    }
   ],
   "source": [
    "print(\"Welcome to python world!Let's start coding\")"
   ]
  },
  {
   "cell_type": "markdown",
   "id": "57abb8ea-7b76-4c03-9427-20d5af935e38",
   "metadata": {},
   "source": [
    "ITS EXTENTION IS \"ipynb"
   ]
  },
  {
   "cell_type": "code",
   "execution_count": null,
   "id": "2a16fad2-a24a-449d-aa13-c4281cf270d6",
   "metadata": {},
   "outputs": [],
   "source": []
  }
 ],
 "metadata": {
  "kernelspec": {
   "display_name": "Python 3",
   "language": "python",
   "name": "python3"
  },
  "language_info": {
   "codemirror_mode": {
    "name": "ipython",
    "version": 3
   },
   "file_extension": ".py",
   "mimetype": "text/x-python",
   "name": "python",
   "nbconvert_exporter": "python",
   "pygments_lexer": "ipython3",
   "version": "3.8.8"
  }
 },
 "nbformat": 4,
 "nbformat_minor": 5
}
